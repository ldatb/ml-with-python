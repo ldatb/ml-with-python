{
 "cells": [
  {
   "cell_type": "markdown",
   "metadata": {},
   "source": [
    "## Let's first import the required libraries"
   ]
  },
  {
   "cell_type": "code",
   "execution_count": 2,
   "metadata": {},
   "outputs": [],
   "source": [
    "import numpy as np\n",
    "import matplotlib.pyplot as plt\n",
    "import pandas as pd\n",
    "import numpy as np\n",
    "from sklearn import preprocessing\n",
    "%matplotlib inline"
   ]
  },
  {
   "cell_type": "markdown",
   "metadata": {},
   "source": [
    "## About the dataset\n",
    "\n",
    "You can download it at: https://cf-courses-data.s3.us.cloud-object-storage.appdomain.cloud/IBMDeveloperSkillsNetwork-ML0101EN-SkillsNetwork/labs/Module%203/data/teleCust1000t.csv\n",
    "\n",
    "To make it easier on you, name it **'custcat.csv'**, as this is the name I will use on my code"
   ]
  },
  {
   "cell_type": "markdown",
   "metadata": {},
   "source": [
    "### Load data from the CSV file"
   ]
  },
  {
   "cell_type": "code",
   "execution_count": 3,
   "metadata": {
    "scrolled": true
   },
   "outputs": [
    {
     "output_type": "execute_result",
     "data": {
      "text/plain": [
       "   region  tenure  age  marital  address  income  ed  employ  retire  gender  \\\n",
       "0       2      13   44        1        9    64.0   4       5     0.0       0   \n",
       "1       3      11   33        1        7   136.0   5       5     0.0       0   \n",
       "2       3      68   52        1       24   116.0   1      29     0.0       1   \n",
       "3       2      33   33        0       12    33.0   2       0     0.0       1   \n",
       "4       2      23   30        1        9    30.0   1       2     0.0       0   \n",
       "\n",
       "   reside  custcat  \n",
       "0       2        1  \n",
       "1       6        4  \n",
       "2       2        3  \n",
       "3       1        1  \n",
       "4       4        3  "
      ],
      "text/html": "<div>\n<style scoped>\n    .dataframe tbody tr th:only-of-type {\n        vertical-align: middle;\n    }\n\n    .dataframe tbody tr th {\n        vertical-align: top;\n    }\n\n    .dataframe thead th {\n        text-align: right;\n    }\n</style>\n<table border=\"1\" class=\"dataframe\">\n  <thead>\n    <tr style=\"text-align: right;\">\n      <th></th>\n      <th>region</th>\n      <th>tenure</th>\n      <th>age</th>\n      <th>marital</th>\n      <th>address</th>\n      <th>income</th>\n      <th>ed</th>\n      <th>employ</th>\n      <th>retire</th>\n      <th>gender</th>\n      <th>reside</th>\n      <th>custcat</th>\n    </tr>\n  </thead>\n  <tbody>\n    <tr>\n      <th>0</th>\n      <td>2</td>\n      <td>13</td>\n      <td>44</td>\n      <td>1</td>\n      <td>9</td>\n      <td>64.0</td>\n      <td>4</td>\n      <td>5</td>\n      <td>0.0</td>\n      <td>0</td>\n      <td>2</td>\n      <td>1</td>\n    </tr>\n    <tr>\n      <th>1</th>\n      <td>3</td>\n      <td>11</td>\n      <td>33</td>\n      <td>1</td>\n      <td>7</td>\n      <td>136.0</td>\n      <td>5</td>\n      <td>5</td>\n      <td>0.0</td>\n      <td>0</td>\n      <td>6</td>\n      <td>4</td>\n    </tr>\n    <tr>\n      <th>2</th>\n      <td>3</td>\n      <td>68</td>\n      <td>52</td>\n      <td>1</td>\n      <td>24</td>\n      <td>116.0</td>\n      <td>1</td>\n      <td>29</td>\n      <td>0.0</td>\n      <td>1</td>\n      <td>2</td>\n      <td>3</td>\n    </tr>\n    <tr>\n      <th>3</th>\n      <td>2</td>\n      <td>33</td>\n      <td>33</td>\n      <td>0</td>\n      <td>12</td>\n      <td>33.0</td>\n      <td>2</td>\n      <td>0</td>\n      <td>0.0</td>\n      <td>1</td>\n      <td>1</td>\n      <td>1</td>\n    </tr>\n    <tr>\n      <th>4</th>\n      <td>2</td>\n      <td>23</td>\n      <td>30</td>\n      <td>1</td>\n      <td>9</td>\n      <td>30.0</td>\n      <td>1</td>\n      <td>2</td>\n      <td>0.0</td>\n      <td>0</td>\n      <td>4</td>\n      <td>3</td>\n    </tr>\n  </tbody>\n</table>\n</div>"
     },
     "metadata": {},
     "execution_count": 3
    }
   ],
   "source": [
    "data_raw = pd.read_csv('./data/custcat.csv')\n",
    "data_raw.head()"
   ]
  },
  {
   "cell_type": "markdown",
   "metadata": {},
   "source": [
    "The dataset is composed of 12 columns: region, tenure, age, marital, address, income, ed, employ, retire, gender, reside and custcat"
   ]
  },
  {
   "cell_type": "markdown",
   "metadata": {},
   "source": [
    "## Data Visualization and Analysis"
   ]
  },
  {
   "cell_type": "markdown",
   "metadata": {},
   "source": [
    "#### First let's select the data we need"
   ]
  },
  {
   "cell_type": "code",
   "execution_count": 38,
   "metadata": {},
   "outputs": [
    {
     "data": {
      "text/plain": [
       "array([1, 4, 3, 1, 3], dtype=int64)"
      ]
     },
     "execution_count": 38,
     "metadata": {},
     "output_type": "execute_result"
    }
   ],
   "source": [
    "data = data_raw[['region', 'tenure','age', 'marital', 'address', 'income', 'ed', 'employ','retire', 'gender', 'reside']].values\n",
    "data[0:5]\n",
    "\n",
    "data_values = data_raw['custcat'].values\n",
    "data_values[0:5]"
   ]
  },
  {
   "cell_type": "markdown",
   "metadata": {},
   "source": [
    "We need to normalize our data"
   ]
  },
  {
   "cell_type": "code",
   "execution_count": 39,
   "metadata": {},
   "outputs": [
    {
     "data": {
      "text/plain": [
       "array([[-0.02696767, -1.055125  ,  0.18450456,  1.0100505 , -0.25303431,\n",
       "        -0.12650641,  1.0877526 , -0.5941226 , -0.22207644, -1.03459817,\n",
       "        -0.23065004],\n",
       "       [ 1.19883553, -1.14880563, -0.69181243,  1.0100505 , -0.4514148 ,\n",
       "         0.54644972,  1.9062271 , -0.5941226 , -0.22207644, -1.03459817,\n",
       "         2.55666158],\n",
       "       [ 1.19883553,  1.52109247,  0.82182601,  1.0100505 ,  1.23481934,\n",
       "         0.35951747, -1.36767088,  1.78752803, -0.22207644,  0.96655883,\n",
       "        -0.23065004],\n",
       "       [-0.02696767, -0.11831864, -0.69181243, -0.9900495 ,  0.04453642,\n",
       "        -0.41625141, -0.54919639, -1.09029981, -0.22207644,  0.96655883,\n",
       "        -0.92747794],\n",
       "       [-0.02696767, -0.58672182, -0.93080797,  1.0100505 , -0.25303431,\n",
       "        -0.44429125, -1.36767088, -0.89182893, -0.22207644, -1.03459817,\n",
       "         1.16300577]])"
      ]
     },
     "execution_count": 39,
     "metadata": {},
     "output_type": "execute_result"
    }
   ],
   "source": [
    "data_normalized = preprocessing.StandardScaler().fit(data).transform(data.astype(float))\n",
    "data_normalized[0:5]"
   ]
  },
  {
   "cell_type": "markdown",
   "metadata": {},
   "source": [
    "With the data normalized our model can be more accurate"
   ]
  },
  {
   "cell_type": "markdown",
   "metadata": {},
   "source": [
    "### Now we will separate our data into train and test"
   ]
  },
  {
   "cell_type": "code",
   "execution_count": 40,
   "metadata": {},
   "outputs": [
    {
     "name": "stdout",
     "output_type": "stream",
     "text": [
      "Train set:  (800, 11) (800,)\n",
      "Test set:  (200, 11) (200,)\n"
     ]
    }
   ],
   "source": [
    "from sklearn.model_selection import train_test_split\n",
    "x_train, x_test, y_train, y_test = train_test_split(data, data_values, test_size=0.2, random_state=4)\n",
    "print('Train set: ', x_train.shape, y_train.shape)\n",
    "print('Test set: ', x_test.shape, y_test.shape)"
   ]
  },
  {
   "cell_type": "markdown",
   "metadata": {},
   "source": [
    "## Classification\n",
    "\n",
    "### K-Nearest Neighbor (KNN)\n",
    "\n",
    "#### Import library"
   ]
  },
  {
   "cell_type": "code",
   "execution_count": 41,
   "metadata": {},
   "outputs": [],
   "source": [
    "from sklearn.neighbors import KNeighborsClassifier as KNC"
   ]
  },
  {
   "cell_type": "markdown",
   "metadata": {},
   "source": [
    "#### Training"
   ]
  },
  {
   "cell_type": "code",
   "execution_count": 46,
   "metadata": {},
   "outputs": [
    {
     "name": "stdout",
     "output_type": "stream",
     "text": [
      "KNeighborsClassifier(n_neighbors=4)\n"
     ]
    }
   ],
   "source": [
    "k = 4\n",
    "neighbor = KNC(n_neighbors = k).fit(x_train, y_train)\n",
    "print(neighbor)"
   ]
  },
  {
   "cell_type": "markdown",
   "metadata": {},
   "source": [
    "#### Predicting\n",
    "We now can use the model to predict the test set"
   ]
  },
  {
   "cell_type": "code",
   "execution_count": 47,
   "metadata": {},
   "outputs": [
    {
     "name": "stdout",
     "output_type": "stream",
     "text": [
      "[3 1 3 4 4]\n"
     ]
    }
   ],
   "source": [
    "y_predict = neighbor.predict(x_test)\n",
    "print(y_predict[0:5])"
   ]
  },
  {
   "cell_type": "markdown",
   "metadata": {},
   "source": [
    "#### Accuracy"
   ]
  },
  {
   "cell_type": "code",
   "execution_count": 48,
   "metadata": {},
   "outputs": [
    {
     "name": "stdout",
     "output_type": "stream",
     "text": [
      "Train set Accuracy:  0.55625\n",
      "Test set Accuracy:  0.26\n"
     ]
    }
   ],
   "source": [
    "from sklearn.metrics import accuracy_score\n",
    "print(\"Train set Accuracy: \", accuracy_score(y_train, neighbor.predict(x_train)))\n",
    "print(\"Test set Accuracy: \", accuracy_score(y_test, y_predict))"
   ]
  },
  {
   "cell_type": "markdown",
   "metadata": {},
   "source": [
    "#### As we can see, the accuracy was realy low with k=4, so we can test many other k values to see which one fits the best"
   ]
  },
  {
   "cell_type": "code",
   "execution_count": 55,
   "metadata": {
    "collapsed": true
   },
   "outputs": [
    {
     "name": "stdout",
     "output_type": "stream",
     "text": [
      "[0.275 0.31  0.275 0.26  0.3   0.295 0.35  0.33  0.32  0.32  0.345 0.33\n",
      " 0.32  0.34  0.355 0.32  0.335 0.34  0.355 0.345 0.325 0.345 0.345 0.34\n",
      " 0.335 0.35  0.345 0.36  0.35  0.32  0.325 0.325 0.325 0.335 0.355 0.35\n",
      " 0.335 0.325 0.375 0.36  0.36  0.335 0.335 0.345 0.375 0.375 0.37  0.365\n",
      " 0.36  0.36  0.37  0.37  0.375 0.37  0.38  0.365 0.375 0.37  0.37  0.38\n",
      " 0.365 0.36  0.38  0.36  0.36  0.375 0.375 0.365 0.365 0.36  0.37  0.37\n",
      " 0.375 0.37  0.37  0.375 0.39  0.4   0.38  0.385 0.375 0.39  0.375 0.375\n",
      " 0.38  0.39  0.385 0.385 0.375 0.365 0.37  0.37  0.37  0.375 0.385 0.385\n",
      " 0.385 0.385 0.375 0.385 0.38  0.375 0.375 0.375 0.38  0.38  0.39  0.39\n",
      " 0.38  0.385 0.395 0.4   0.395 0.405 0.395 0.4   0.4   0.395 0.39  0.385\n",
      " 0.395 0.39  0.4   0.395 0.395 0.395 0.385 0.385 0.39  0.39  0.385 0.38\n",
      " 0.385 0.385 0.385 0.385 0.38  0.38  0.375 0.375 0.375 0.38  0.38  0.38\n",
      " 0.375 0.38  0.38  0.38  0.38  0.38  0.385 0.38  0.38  0.385 0.385 0.38\n",
      " 0.38  0.385 0.38  0.38  0.38  0.38  0.38  0.38  0.375 0.38  0.38  0.385\n",
      " 0.385 0.38  0.385 0.38  0.375 0.375 0.375 0.375 0.375 0.375 0.375 0.375\n",
      " 0.38  0.38  0.38  0.38  0.38  0.385 0.385 0.38  0.37  0.37  0.37  0.37\n",
      " 0.365 0.37  0.365 0.36  0.36  0.365 0.36  0.36  0.36  0.36  0.365 0.36\n",
      " 0.36  0.36  0.365 0.36  0.355 0.355 0.35  0.35  0.35  0.35  0.35  0.35\n",
      " 0.35  0.35  0.355 0.35  0.355 0.355 0.35  0.355 0.35  0.34  0.345 0.355\n",
      " 0.355 0.35  0.35  0.35  0.345 0.345 0.345 0.345 0.345 0.345 0.345 0.355\n",
      " 0.345 0.345 0.345 0.35  0.35  0.355 0.35  0.345 0.34  0.34  0.33  0.335\n",
      " 0.34  0.34  0.345 0.34  0.34  0.34  0.34  0.335 0.34  0.345 0.34  0.34\n",
      " 0.335 0.335 0.34  0.345 0.335 0.345 0.34  0.34  0.345 0.345 0.34  0.335\n",
      " 0.335 0.33  0.33  0.34  0.34  0.34  0.335 0.33  0.33  0.35  0.34  0.345\n",
      " 0.345 0.34  0.34  0.335 0.325 0.325 0.325 0.33  0.335 0.33  0.33  0.335\n",
      " 0.33  0.33  0.33  0.325 0.325 0.33  0.33  0.33  0.325 0.325 0.32  0.32\n",
      " 0.32  0.32  0.325 0.325 0.325 0.325 0.325 0.32  0.32  0.32  0.32  0.32\n",
      " 0.325 0.325 0.325 0.32  0.32  0.32  0.32  0.32  0.315 0.315 0.315 0.315\n",
      " 0.32  0.32  0.32  0.32  0.32  0.32  0.32  0.32  0.315 0.315 0.31  0.32\n",
      " 0.31  0.315 0.315 0.31  0.305 0.305 0.31  0.31  0.31  0.31  0.31  0.31\n",
      " 0.315 0.315 0.315 0.315 0.315 0.315 0.315 0.315 0.315 0.315 0.315 0.315\n",
      " 0.315 0.31  0.31  0.315 0.315 0.315 0.315 0.315 0.315 0.315 0.315 0.315\n",
      " 0.315 0.31  0.31  0.31  0.315 0.31  0.31  0.31  0.305 0.31  0.31  0.305\n",
      " 0.31  0.31  0.31  0.31  0.31  0.31  0.31  0.31  0.305 0.305 0.305 0.305\n",
      " 0.305 0.305 0.305 0.305 0.305 0.305 0.3   0.3   0.3   0.305 0.305 0.305\n",
      " 0.305 0.31  0.31  0.31  0.31  0.31  0.31  0.31  0.31  0.31  0.31  0.31\n",
      " 0.31  0.31  0.31  0.31  0.315 0.315 0.315 0.315 0.315 0.315 0.315 0.315\n",
      " 0.315 0.315 0.32  0.32  0.32  0.315 0.32  0.32  0.32  0.325 0.32  0.32\n",
      " 0.325 0.325 0.325 0.325 0.32  0.325 0.32  0.32  0.32  0.315 0.32  0.32\n",
      " 0.32  0.32  0.315 0.315 0.315 0.315 0.315 0.315 0.315 0.315 0.315 0.315\n",
      " 0.315 0.32  0.315 0.315 0.315 0.315 0.315 0.315 0.315 0.315 0.315 0.315\n",
      " 0.315 0.315 0.315 0.315 0.315 0.315 0.315 0.315 0.315 0.315 0.315 0.315\n",
      " 0.315 0.315 0.315 0.315 0.315 0.315 0.315 0.315 0.31  0.315 0.315 0.31\n",
      " 0.315 0.315 0.31  0.315 0.315 0.315 0.31  0.31  0.315 0.31  0.31  0.31\n",
      " 0.31  0.31  0.31  0.31  0.31  0.31  0.31  0.31  0.31  0.31  0.31  0.31\n",
      " 0.31  0.31  0.31  0.31  0.31  0.31  0.31  0.31  0.31  0.31  0.31  0.31\n",
      " 0.31  0.31  0.31  0.31  0.305 0.305 0.305 0.305 0.305 0.305 0.305 0.305\n",
      " 0.305 0.305 0.305 0.305 0.305 0.305 0.31  0.31  0.305 0.305 0.305 0.31\n",
      " 0.31  0.31  0.31  0.305 0.305 0.305 0.305 0.305 0.305 0.305 0.305 0.305\n",
      " 0.305 0.305 0.305 0.305 0.305 0.305 0.3   0.305 0.3   0.3   0.3   0.3\n",
      " 0.3   0.3   0.3   0.305 0.305 0.3   0.3   0.3   0.305 0.31  0.31  0.31\n",
      " 0.305 0.305 0.305 0.305 0.305 0.3   0.305 0.305 0.315 0.31  0.31  0.31\n",
      " 0.31  0.305 0.305 0.31  0.31  0.31  0.31  0.31  0.31  0.31  0.31  0.31\n",
      " 0.31  0.31  0.31  0.31  0.31  0.31  0.31  0.31  0.31  0.31  0.31  0.31\n",
      " 0.305 0.31  0.31  0.31  0.31  0.31  0.31  0.31  0.31  0.31  0.31  0.31\n",
      " 0.31  0.31  0.31  0.31  0.31  0.31  0.31  0.31  0.305 0.305 0.305 0.305\n",
      " 0.305 0.305 0.305 0.305 0.305 0.305 0.305 0.305 0.3   0.3   0.31  0.305\n",
      " 0.31  0.305 0.305 0.31  0.31  0.315 0.315 0.32  0.315 0.315 0.315 0.32\n",
      " 0.32  0.32  0.315 0.32  0.325 0.315 0.32  0.32  0.315 0.32  0.315 0.32\n",
      " 0.32  0.32  0.32  0.315 0.315 0.315 0.31  0.31  0.31  0.32  0.315 0.315\n",
      " 0.315 0.32  0.32  0.32  0.315 0.315 0.32  0.32  0.32  0.325 0.325 0.32\n",
      " 0.315 0.315 0.31  0.305 0.305 0.305 0.305 0.305 0.305 0.305 0.3   0.305\n",
      " 0.305 0.305 0.305 0.305 0.33  0.345 0.345 0.31  0.31  0.31  0.32  0.265\n",
      " 0.3   0.305 0.305 0.305 0.315 0.295 0.295 0.3   0.3   0.315 0.31  0.34\n",
      " 0.27  0.27  0.27  0.27  0.27  0.27  0.27  0.27  0.27  0.27  0.27  0.27\n",
      " 0.27  0.27  0.27  0.27  0.27  0.27  0.27  0.27  0.27  0.27  0.27  0.27\n",
      " 0.27  0.27  0.27  0.27  0.27  0.27  0.27  0.27 ]\n"
     ]
    }
   ],
   "source": [
    "Ks = 801 # 1 < K <= 801\n",
    "mean_accuracy = np.zeros(Ks-1)\n",
    "standard_accuracy = np.zeros(Ks-1)\n",
    "\n",
    "for n in range (1,Ks):\n",
    "    # Train model\n",
    "    neighbors = KNC(n_neighbors = n).fit(x_train, y_train)\n",
    "    y_predicts = neighbors.predict(x_test)\n",
    "    \n",
    "    # Calculate accuracy\n",
    "    mean_accuracy[n-1] = accuracy_score(y_test, y_predicts)\n",
    "    standard_accuracy = np.std(y_predicts == y_test) / np.sqrt(y_predicts.shape[0])\n",
    "    \n",
    "# Print mean accuracy\n",
    "print(mean_accuracy)"
   ]
  },
  {
   "cell_type": "markdown",
   "metadata": {},
   "source": [
    "#### We can now plot a graph to see which K fit the best"
   ]
  },
  {
   "cell_type": "code",
   "execution_count": 56,
   "metadata": {},
   "outputs": [
    {
     "data": {
      "image/png": "[encoded data removed]",
      "text/plain": [
       "<Figure size 432x288 with 1 Axes>"
      ]
     },
     "metadata": {
      "needs_background": "light"
     },
     "output_type": "display_data"
    },
    {
     "name": "stdout",
     "output_type": "stream",
     "text": [
      "The best accuracy was with 0.405 with k= 114\n"
     ]
    }
   ],
   "source": [
    "plt.plot(range(1,Ks), mean_accuracy, color='blue')\n",
    "plt.fill_between(range(1,Ks), mean_accuracy - 1 * standard_accuracy, mean_accuracy + 1 * standard_accuracy, alpha=0.10)\n",
    "plt.fill_between(range(1,Ks), mean_accuracy - 3 * standard_accuracy, mean_accuracy + 3 * standard_accuracy, alpha=0.10, color = 'green')\n",
    "plt.legend(('Accuracy ', '+/- 1xstd','+/- 3xstd'))\n",
    "plt.xlabel('Number of Neighbors (K)')\n",
    "plt.ylabel('Accuracy ')\n",
    "plt.tight_layout()\n",
    "plt.show()\n",
    "print( \"The best accuracy was with\", mean_accuracy.max(), \"with k=\", mean_accuracy.argmax()+1)"
   ]
  },
  {
   "cell_type": "markdown",
   "metadata": {},
   "source": [
    "#### We can now see that the best K was 114, although it's accuracy was still very low."
   ]
  }
 ],
 "metadata": {
  "kernelspec": {
   "name": "python392jvsc74a57bd0f47a5ab19bc45083382657f6f2388be666e731531973f00c5e26ff8c66213130",
   "display_name": "Python 3.9.2 64-bit"
  },
  "language_info": {
   "codemirror_mode": {
    "name": "ipython",
    "version": 3
   },
   "file_extension": ".py",
   "mimetype": "text/x-python",
   "name": "python",
   "nbconvert_exporter": "python",
   "pygments_lexer": "ipython3",
   "version": "3.9.2"
  }
 },
 "nbformat": 4,
 "nbformat_minor": 4
}